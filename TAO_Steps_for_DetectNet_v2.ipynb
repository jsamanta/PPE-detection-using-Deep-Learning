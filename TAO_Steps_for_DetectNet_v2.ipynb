{
  "cells": [
    {
      "cell_type": "markdown",
      "metadata": {
        "id": "dMuP1BR8WGD3"
      },
      "source": [
        "## Steps that I used to perform model training, evaluating, inferencing and exporting the model using Tao toolkit on AWS EC2 cloud setup\n",
        "\n",
        "\n",
        "\n",
        "- It is expected that the TAO toolkit,the related dependecies and pre-trained models are already installed on the setup, instructions are given in below document:\n",
        "\n",
        "#### TAO Quick start guide\n",
        "https://docs.nvidia.com/tao/tao-toolkit/text/tao_toolkit_quick_start_guide.html \n",
        "\n",
        "\n",
        "#### DetectNet_v2 model\n",
        "\n",
        "Reference: https://docs.nvidia.com/tao/tao-toolkit/text/object_detection/detectnet_v2.html \n",
        "\n",
        "\n",
        "## The below steps were performed in a similar manner for all the three approaches."
      ]
    },
    {
      "cell_type": "markdown",
      "metadata": {
        "id": "y6OvXJquYdC5"
      },
      "source": [
        "### Step 1 TAO dependencies\n",
        "\n",
        "It is expected that the TAO toolkit and the related dependecies are already installed on the setup, instructions are given in below document:\n",
        "https://docs.nvidia.com/tao/tao-toolkit/text/tao_toolkit_quick_start_guide.html "
      ]
    },
    {
      "cell_type": "markdown",
      "metadata": {
        "id": "c2bu53jzW_kv"
      },
      "source": [
        "### Step 2 Pre-processing data-set\n",
        "\n",
        "Create below directory structure to store data and configuration files\n",
        "\n",
        "USER_EXPERIMENT_DIR=/workspace/tao-experiments/detectnet_v2_ppe\n",
        "\n",
        "DATA_DOWNLOAD_DIR=/workspace/tao-experiments/detectnet_v2_ppe/data\n",
        "\n",
        "SPECS_DIR=/workspace/tao-experiments/detectnet_v2_ppe/specs\n",
        "\n",
        "TRAINING_DIR=/workspace/tao-experiments/detectnet_v2_ppe/training\n",
        "\n",
        "\n"
      ]
    },
    {
      "cell_type": "markdown",
      "metadata": {
        "id": "n8Iym2AsZbry"
      },
      "source": [
        "### Step 3 Data directory\n",
        "\n",
        "DATA_DOWNLOAD_DIR, this directory will contain below subfolder:\n",
        "\n",
        "1) train:\n",
        "\n",
        "- This folder contains images and labels directory which will be used for model training\n",
        "\n",
        "2) test:\n",
        "\n",
        "- This folder contains images and labels directory which will be used for model evaluation on test dataset\n",
        "\n",
        "3) val:\n",
        "\n",
        "- This folder contains images and labels directory which will be used for model evaluation on validation dataset\n",
        "\n",
        "4) tfrecords:\n",
        "\n",
        "- This folder contains tfrecord files for train, test and validation dataset\n",
        "\n",
        "\n",
        "\n",
        "SPECS_DIR=/workspace/tao-experiments/detectnet_v2_ppe/specs\n",
        "\n",
        "SPECS_DIR, this directory will contain below files:\n",
        "\n",
        "- training.cfg\n",
        "\n",
        "- inference.cfg\n",
        "\n",
        "- train_convert.cfg\n",
        "\n",
        "- test_convert.cfg\n",
        "\n",
        "- val_convert.cfg\n",
        "\n"
      ]
    },
    {
      "cell_type": "markdown",
      "metadata": {
        "id": "4LTec-DbbuTa"
      },
      "source": [
        "### Step 3 Tfrecords generate\n",
        "\n",
        "Create train_convert.cfg, test_convert.cfg and val_convert.cfg files for TAO to identify folders of dataset that needs to be converted to tfrecords\n",
        "\n",
        "Configuration file for dataset convert: https://docs.nvidia.com/tao/tao-toolkit/text/object_detection/detectnet_v2.html#configuration-file-for-dataset-converter\n",
        "\n",
        "Sample command to generate training data-set tfrecord:\n",
        ">> tao detectnet_v2 dataset_convert -d /workspace/tao-experiments/detectnet_v2_ppe/specs/train_convert.cfg \\ -o /workspace/tao-experiments/detectnet_v2_ppe/data/tfrecords/train/ -v\n",
        "\n",
        "\n",
        "Similarly for validation dataset:\n",
        ">> tao detectnet_v2 dataset_convert -d /workspace/tao-experiments/detectnet_v2_ppe/specs/val_convert.cfg \\ -o /workspace/tao-experiments/detectnet_v2_ppe/data/tfrecords/val/ -v\n",
        "\n",
        "Similarly for Test dataset:\n",
        ">> tao detectnet_v2 dataset_convert -d /workspace/tao-experiments/detectnet_v2_ppe/specs/test_convert.cfg \\ -o /workspace/tao-experiments/detectnet_v2_ppe/data/tfrecords/test/ -v\n"
      ]
    },
    {
      "cell_type": "markdown",
      "metadata": {
        "id": "P14c3Rp9dDco"
      },
      "source": [
        "### Step 4 Create training configuration file\n",
        "\n",
        "Training configuration document: https://docs.nvidia.com/tao/tao-toolkit/text/object_detection/detectnet_v2.html#model-config \n",
        "\n",
        "training.cfg file can be found under specs directory\n",
        "\n",
        "SPECS_DIR=/workspace/tao-experiments/detectnet_v2_ppe/specs\n",
        "\n",
        "\n"
      ]
    },
    {
      "cell_type": "markdown",
      "metadata": {
        "id": "Q0nzkOEweBVF"
      },
      "source": [
        "### Step 5 Model training\n",
        "\n",
        "Sample command used for running model training:\n",
        ">> tao detectnet_v2 train -e \n",
        "/workspace/tao-experiments/detectnet_v2_ppe/specs/training.cfg -r /workspace/tao-experiments/detectnet_v2_ppe/training_run/ -k tlt_encode --gpus 1 --gpu_index 2 -v"
      ]
    },
    {
      "cell_type": "code",
      "execution_count": 3,
      "metadata": {
        "id": "PedA9Vtae_XO"
      },
      "outputs": [],
      "source": [
        "# Output of above model training after 100/100 epochs:\n",
        "# Validation cost: 0.000713\n",
        "# Mean average_precision (in %): 63.9297\n",
        " \n",
        "# class name      average precision (in %)\n",
        "# ------------  --------------------------\n",
        "# helmet                           53.5013\n",
        "# person                           70.117\n",
        "# vest                             68.1708"
      ]
    },
    {
      "cell_type": "markdown",
      "metadata": {
        "id": "oO2xvvwpgTuB"
      },
      "source": [
        "At the end of training, tao will generate model.tlt file that can be used for model evaluation."
      ]
    },
    {
      "cell_type": "markdown",
      "metadata": {
        "id": "FDXwdsBbfOfC"
      },
      "source": [
        "### Step 6 Model Evaluation\n",
        "\n",
        "Model evaluation config: https://docs.nvidia.com/tao/tao-toolkit/text/object_detection/detectnet_v2.html#configuring-the-evaluator\n",
        "\n",
        "\n",
        "Sample command to run model evaluation:\n",
        ">> tao detectnet_v2 evaluate -e /workspace/tao-experiments/detectnet_v2_ppe/specs/training.cfg -m /workspace/tao-experiments/detectnet_v2_ppe/ppe_training/weights/model.tlt -k tlt_encode\n"
      ]
    },
    {
      "cell_type": "code",
      "execution_count": 4,
      "metadata": {
        "id": "4nLX9SgKgmEN"
      },
      "outputs": [],
      "source": [
        "# Evaluation on Validation data\n",
        "\n",
        "# Validation cost: 0.000877\n",
        "# Mean average_precision (in %): 62.9232\n",
        "\n",
        "# class name      average precision (in %)\n",
        "# ------------  --------------------------\n",
        "# helmet                           54.56\n",
        "# person                           67.4151\n",
        "# vest                             66.7945\n",
        "\n",
        "# =====================================================\n",
        "\n",
        "# Evaluation on Test data:\n",
        "# Validation cost: 0.001008\n",
        "# Mean average_precision (in %): 60.7581\n",
        "\n",
        "# class name      average precision (in %)\n",
        "# ------------  --------------------------\n",
        "# helmet                           50.8559\n",
        "# person                           68.3887\n",
        "# vest                             63.0295\n"
      ]
    },
    {
      "cell_type": "markdown",
      "metadata": {
        "id": "y55yO_Rrem_n"
      },
      "source": [
        "### Step 7 Model Inference\n",
        "\n",
        "Document: https://docs.nvidia.com/tao/tao-toolkit/text/object_detection/detectnet_v2.html#specification-file-for-inference \n",
        "\n",
        "\n",
        "Sample command to generate inference files using trained model:\n",
        "\n",
        "For validation dataste\n",
        ">> tao detectnet_v2 inference -e /workspace/tao-experiments/detectnet_v2_ppe/specs/inference.cfg -i /workspace/tao-experiments/detectnet_v2_ppe/data/val/images/ -o /workspace/tao-experiments/detectnet_v2_ppe/data/val/labels/ -k tlt_encode\n",
        "\n",
        "For test dataset:\n",
        ">> tao detectnet_v2 inference -e /workspace/tao-experiments/detectnet_v2_ppe/specs/inference.cfg -i /workspace/tao-experiments/detectnet_v2_ppe/data/test/images/ -o /workspace/tao-experiments/detectnet_v2_ppe/data/test/labels/ -k tlt_encode\n",
        "\n",
        "\n",
        "\n"
      ]
    },
    {
      "cell_type": "markdown",
      "metadata": {
        "id": "Sos9sjjYiyd_"
      },
      "source": [
        "### Step 8 Generating the calibration_tensor file in Int8 mode\n",
        "\n",
        ">> tao detectnet_v2 calibration_tensorfile -e /workspace/tao-experiments/detectnet_v2_ppe/specs/training.cfg -m 10 -o /workspace/tao-experiments/detectnet_v2_ppe/ppe_training/weights/Int8/calibration.tensor\n"
      ]
    },
    {
      "cell_type": "markdown",
      "metadata": {
        "id": "Y_FCP6R6h6Y0"
      },
      "source": [
        "### Step 9 Exporting the model\n",
        "\n",
        "Sample command:\n",
        ">> tao detectnet_v2 export -m /workspace/tao-expeiments/ppe_classification/ppe_training/weights/model.tlt \n",
        "-k tlt_encode -e /workspace/tao-experiments/detectnet_v2_ppe/specs/training.cfg -o /workspace/tao-experiments/detectnet_v2_ppe/ppe_training/weights/export/Int8/resnet18_detector.etlt --cal_data_file /workspace/tao-experiments/detectnet_v2_ppe/ppe_training/weights/export/Int8/calibration.tensor --data_type int8 --batches 10 --batch_size 4 --max_batch_size 4 --engine_file /workspace/tao-experiments/detectnet_v2_ppe/ppe_training/weights/export/Int8/resnet18_detector.trt.int8 --cal_cache_file /workspace/tao-experiments/detectnet_v2_ppe/ppe_training/weights/export/Int8/calibration.bin --gen_ds_config"
      ]
    },
    {
      "cell_type": "code",
      "execution_count": 6,
      "metadata": {
        "id": "jALVreiWW_U0"
      },
      "outputs": [],
      "source": [
        "# After export below files will be created:\n",
        "# (ppe_detector) jaydeep@ip-172-31-29-173:/workspace/tao-experiments/detectnet_v2_ppe/ppe_training/weights/export/Int8$ ls -lrt\n",
        "# total 167452\n",
        "# -rw-rw-rw- 1 jaydeep jaydeep 112138546 Jul  7 10:21 calibration.tensor\n",
        "# -rw-rw-rw- 1 jaydeep jaydeep  46311310 Jul  7 10:42 resnet18_detector.etlt\n",
        "# -rw-rw-rw- 1 jaydeep jaydeep      4864 Jul  7 10:43 calibration.bin\n",
        "# -rw-rw-rw- 1 jaydeep jaydeep  12997755 Jul  7 10:44 resnet18_detector.trt.int8\n",
        "# -rw-rw-rw- 1 jaydeep jaydeep       289 Jul  7 11:01 nvinfer_config.txt\n",
        "# -rw-rw-rw- 1 jaydeep jaydeep        19 Jul  7 11:01 labels.txt\n"
      ]
    },
    {
      "cell_type": "markdown",
      "metadata": {
        "id": "twPw0WLGlMlp"
      },
      "source": [
        "### Step 10 Model deployment using DeepStream on Jetson device\n",
        "\n",
        "Reference document for deploying in Deepstream: https://docs.nvidia.com/tao/tao-toolkit/text/object_detection/detectnet_v2.html#deploying-to-deepstream\n",
        "\n",
        "After required model files are created, these files will be downloaded in Jetson Xavier NX and real-time inference can be run using DeepStream SDK installed on the Jetson device"
      ]
    },
    {
      "cell_type": "markdown",
      "metadata": {
        "id": "1As8SBJrV7k3"
      },
      "source": []
    }
  ],
  "metadata": {
    "colab": {
      "name": "TAO_DetectNet_v2.ipynb",
      "provenance": []
    },
    "kernelspec": {
      "display_name": "Python 3.9.13 64-bit (windows store)",
      "language": "python",
      "name": "python3"
    },
    "language_info": {
      "name": "python",
      "version": "3.9.13"
    },
    "vscode": {
      "interpreter": {
        "hash": "ab3afec5226c55a4579eb186438f17270aad9a4e84b31655f304cdfdaa08c6c2"
      }
    }
  },
  "nbformat": 4,
  "nbformat_minor": 0
}
